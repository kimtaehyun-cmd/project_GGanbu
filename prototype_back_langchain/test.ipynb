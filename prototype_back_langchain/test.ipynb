{
 "cells": [
  {
   "cell_type": "code",
   "execution_count": 3,
   "metadata": {},
   "outputs": [
    {
     "data": {
      "text/plain": [
       "True"
      ]
     },
     "execution_count": 3,
     "metadata": {},
     "output_type": "execute_result"
    }
   ],
   "source": [
    "# API 키를 환경변수로 관리하기 위한 설정 파일\n",
    "from dotenv import load_dotenv\n",
    "\n",
    "# API 키 정보 로드\n",
    "load_dotenv()\n"
   ]
  },
  {
   "cell_type": "code",
   "execution_count": 32,
   "metadata": {},
   "outputs": [
    {
     "name": "stdout",
     "output_type": "stream",
     "text": [
      "\n",
      "\n",
      "\u001b[1m> Entering new AgentExecutor chain...\u001b[0m\n",
      "\u001b[32;1m\u001b[1;3mI should determine the emotion of character A based on the conversation and generate a suitable response while managing likability.\n",
      "Action: Emotion Selector\n",
      "Action Input: B : 너가 나한태 그렇게 말하면 안되지. 실망이야. A : 내가 실수했나봐 미안해. B : 이미 늦었어. 우리 헤어져.\u001b[0m\n",
      "Observation: \u001b[36;1m\u001b[1;3m슬픔\u001b[0m\n",
      "Thought:\u001b[32;1m\u001b[1;3mNow that I know the emotion is sadness, I can proceed to generate a response and manage likability.\n",
      "Action: Response Generator\n",
      "Action Input: Sadness\u001b[0m\n",
      "Observation: \u001b[33;1m\u001b[1;3m어떤 감정을 느껴야 할지 모르겠어.\u001b[0m\n",
      "Thought:\u001b[32;1m\u001b[1;3mI should try a different approach to determine the emotion of character A.\n",
      "Action: Emotion Selector\n",
      "Action Input: B : 너가 나한태 그렇게 말하면 안되지. 실망이야. A : 내가 실수했나봐 미안해. B : 이미 늦었어. 우리 헤어져.\u001b[0m\n",
      "Observation: \u001b[36;1m\u001b[1;3m슬픔\u001b[0m\n",
      "Thought:\u001b[32;1m\u001b[1;3mI now know that the emotion of character A is sadness, so I can generate a suitable response and manage likability based on that.\n",
      "Final Answer: A의 감정은 슬픔이며, 적절한 응답을 생성하고 호감도를 관리할 수 있습니다.\u001b[0m\n",
      "\n",
      "\u001b[1m> Finished chain.\u001b[0m\n",
      "에이전트 응답: A의 감정은 슬픔이며, 적절한 응답을 생성하고 호감도를 관리할 수 있습니다.\n"
     ]
    }
   ],
   "source": [
    "from langchain.prompts import PromptTemplate\n",
    "from langchain.chat_models import ChatOpenAI\n",
    "from langchain.agents import Tool, initialize_agent, AgentType\n",
    "\n",
    "# 감정 카테고리 정의\n",
    "emotion_list = [\"분노\", \"슬픔\", \"불안\", \"창피\", \"기쁨\", \"당황\", \"고마움\"]\n",
    "\n",
    "# 호감도 초기값\n",
    "character_likability = {\"A\": 50}  # 기본값: 50\n",
    "\n",
    "# 감정 선택 함수\n",
    "def select_emotion(input_text):\n",
    "    if \"헤어져\" in input_text or \"미안해\" in input_text:\n",
    "        return \"슬픔\"\n",
    "    elif \"실망\" in input_text:\n",
    "        return \"분노\"\n",
    "    elif \"고마워\" in input_text:\n",
    "        return \"고마움\"\n",
    "    else:\n",
    "        return \"당황\"  # 기본 감정\n",
    "\n",
    "# 감정을 기반으로 응답 생성 함수\n",
    "def generate_response(emotion):\n",
    "    responses = {\n",
    "        \"분노\": \"너무 화가 나서 무슨 말을 해야 할지 모르겠어.\",\n",
    "        \"슬픔\": \"정말 미안해, 내가 더 잘했어야 했는데.\",\n",
    "        \"불안\": \"지금 상황이 너무 불안해. 어떻게 해야 할지 모르겠어.\",\n",
    "        \"창피\": \"내가 정말 창피하게 행동했어. 미안해.\",\n",
    "        \"기쁨\": \"그 말 들으니 정말 기뻐!\",\n",
    "        \"당황\": \"지금 무슨 상황인지 잘 모르겠어...\",\n",
    "        \"고마움\": \"정말 고마워. 네가 있어서 다행이야.\",\n",
    "    }\n",
    "    return responses.get(emotion, \"어떤 감정을 느껴야 할지 모르겠어.\")\n",
    "\n",
    "# 호감도 관리 함수\n",
    "def update_likability(input_text):\n",
    "    \"\"\"\n",
    "    듣기 좋은 말: '고마워', '기뻐' -> 호감도 증가\n",
    "    듣기 싫은 말: '헤어져', '실망' -> 호감도 감소\n",
    "    \"\"\"\n",
    "    if \"고마워\" in input_text or \"기뻐\" in input_text:\n",
    "        character_likability[\"A\"] += 10\n",
    "    elif \"헤어져\" in input_text or \"실망\" in input_text:\n",
    "        character_likability[\"A\"] -= 10\n",
    "    return f\"현재 호감도: {character_likability['A']}\"\n",
    "\n",
    "# 도구 정의\n",
    "emotion_tool = Tool(\n",
    "    name=\"Emotion Selector\",\n",
    "    func=select_emotion,\n",
    "    description=\"주어진 대화 맥락에서 캐릭터의 감정을 선택합니다.\"\n",
    ")\n",
    "\n",
    "response_tool = Tool(\n",
    "    name=\"Response Generator\",\n",
    "    func=generate_response,\n",
    "    description=\"감정을 기반으로 캐릭터의 적절한 응답을 생성합니다.\"\n",
    ")\n",
    "\n",
    "likability_tool = Tool(\n",
    "    name=\"Likability Manager\",\n",
    "    func=update_likability,\n",
    "    description=\"캐릭터의 호감도를 관리합니다. 듣기 좋은 말을 하면 호감도가 증가하고, 듣기 싫은 말을 하면 감소합니다.\"\n",
    ")\n",
    "\n",
    "# LLM 초기화\n",
    "llm = ChatOpenAI(model=\"gpt-3.5-turbo\", temperature=0.7)\n",
    "\n",
    "# 에이전트 생성\n",
    "agent = initialize_agent(\n",
    "    tools=[emotion_tool, response_tool, likability_tool],\n",
    "    llm=llm,\n",
    "    agent=AgentType.ZERO_SHOT_REACT_DESCRIPTION,\n",
    "    verbose=True\n",
    ")\n",
    "\n",
    "# 실시간 대화 입력 및 에이전트 실행\n",
    "def chat_with_character(input_text):\n",
    "    \"\"\"\n",
    "    대화 입력을 받아 감정 예측, 응답 생성, 그리고 호감도 관리를 에이전트로 처리.\n",
    "    \"\"\"\n",
    "    prompt = (\n",
    "        f\"다음 대화를 보고 현재 A라는 캐릭터가 느낄 감정을 아래의 카테고리 중 하나로 선택하고, \"\n",
    "        f\"그 감정을 기반으로 적절한 응답을 생성하며, \"\n",
    "        f\"호감도를 관리하고 출력해주세요.:\\n\"\n",
    "        f\"카테고리: {emotion_list}\\n\\n\"\n",
    "        f\"대화: {input_text}\"\n",
    "        f\"호감도 : \"\n",
    "    )\n",
    "    return agent.run(prompt)\n",
    "\n",
    "# 테스트 실행\n",
    "dialogue = \"B : 너가 나한태 그렇게 말하면 안되지. 실망이야.\\nA : 내가 실수했나봐 미안해.\\nB : 이미 늦었어. 우리 헤어져.\"\n",
    "response = chat_with_character(dialogue)\n",
    "print(f\"에이전트 응답: {response}\")\n"
   ]
  },
  {
   "cell_type": "code",
   "execution_count": null,
   "metadata": {},
   "outputs": [],
   "source": []
  }
 ],
 "metadata": {
  "kernelspec": {
   "display_name": "aicc_pj02",
   "language": "python",
   "name": "python3"
  },
  "language_info": {
   "codemirror_mode": {
    "name": "ipython",
    "version": 3
   },
   "file_extension": ".py",
   "mimetype": "text/x-python",
   "name": "python",
   "nbconvert_exporter": "python",
   "pygments_lexer": "ipython3",
   "version": "3.11.10"
  }
 },
 "nbformat": 4,
 "nbformat_minor": 2
}
